{
  "cells": [
    {
      "cell_type": "markdown",
      "metadata": {},
      "source": [
        "## Tutorial on how to combine different Fields for advection into a `FieldList` object"
      ]
    },
    {
      "cell_type": "markdown",
      "metadata": {},
      "source": [
        "In some oceanographic applications, you may want to advect particles using a combination of different velocity data sets. For example, particles at the surface are transported by a combination of geostrophic, Ekman and Stokes flow. And often, these flows are not even on the same grid.\n",
        "\n",
        "One option would be to write a  `Kernel` that computes the movement of particles due to each of these flows. However, in Parcels it is possible to directly combine different flows (without interpolation) and feed them into the built-in `AdvectionRK4` kernel. For that, we use so-called `FieldList` objects.\n",
        "\n",
        "This tutorial shows how to use these `FieldLists` with a very idealised example. We start by importing the relevant modules."
      ]
    },
    {
      "cell_type": "code",
      "execution_count": 1,
      "metadata": {},
      "outputs": [],
      "source": [
        "%matplotlib inline\n",
        "from parcels import Field, FieldSet, ParticleSet, JITParticle, plotTrajectoriesFile, AdvectionRK4\n",
        "import numpy as np"
      ]
    },
    {
      "cell_type": "markdown",
      "metadata": {},
      "source": [
        "Now, let's first define a zonal and meridional velocity field on a 1kmx1km grid with a flat mesh. The zonal velocity is uniform and 1 m/s, and the meridional velocity is zero everywhere."
      ]
    },
    {
      "cell_type": "code",
      "execution_count": 2,
      "metadata": {},
      "outputs": [],
      "source": [
        "xdim, ydim = (10, 20)\n",
        "U = Field('U', np.ones((ydim, xdim), dtype=np.float32),\n",
        "          lon=np.linspace(0., 1e3, xdim, dtype=np.float32),\n",
        "          lat=np.linspace(0., 1e3, ydim, dtype=np.float32))\n",
        "V = Field('V', np.zeros((ydim, xdim), dtype=np.float32), grid=U.grid)\n",
        "fieldset = FieldSet(U, V)"
      ]
    },
    {
      "cell_type": "markdown",
      "metadata": {},
      "source": [
        "We then run a particle and plot its trajectory"
      ]
    },
    {
      "cell_type": "code",
      "execution_count": 3,
      "metadata": {},
      "outputs": [
        {
          "name": "stderr",
          "output_type": "stream",
          "text": [
            "INFO: Compiled JITParticleAdvectionRK4 ==> /var/folders/r2/8593q8z93kd7t4j9kbb_f7p00000gr/T/parcels-504/95f68bdd3e2c61236f4287b88f438342.so\n",
            "100% (10.0 of 10.0) |####################| Elapsed Time: 0:00:00 Time:  0:00:00\n"
          ]
        },
        {
          "data": {
            "image/png": "[encoded data removed]",
            "text/plain": [
              "<matplotlib.figure.Figure at 0x105845050>"
            ]
          },
          "metadata": {},
          "output_type": "display_data"
        }
      ],
      "source": [
        "pset = ParticleSet(fieldset, pclass=JITParticle, lon=[0], lat=[900])\n",
        "output_file = pset.ParticleFile(name='FieldListParticle_adv.nc', outputdt=1)\n",
        "pset.execute(AdvectionRK4, runtime=10, dt=1, output_file=output_file)\n",
        "plotTrajectoriesFile('FieldListParticle_adv.nc');"
      ]
    },
    {
      "cell_type": "markdown",
      "metadata": {},
      "source": [
        "The trajectory plot shows a particle moving eastward on the 1 m/s flow, as expected"
      ]
    },
    {
      "cell_type": "markdown",
      "metadata": {},
      "source": [
        "Now, let's define another set of velocities (`Ustokes, Vstokes`) on a different, higher-resolution grid. This flow is southwestward at -0.2 m/s in each direction.\n",
        "\n",
        "Note that it is **very important to specify the `fieldtype` of the fields, as Parcels will otherwise not perform the unit conversion correctly**."
      ]
    },
    {
      "cell_type": "code",
      "execution_count": 4,
      "metadata": {},
      "outputs": [],
      "source": [
        "gf = 10  # factor by which the resolution of this grid is higher than of the original one.\n",
        "Ustokes = Field('Ustokes', -0.2*np.ones((ydim*gf, xdim*gf), dtype=np.float32),\n",
        "                lon=np.linspace(0., 1e3, xdim*gf, dtype=np.float32),\n",
        "                lat=np.linspace(0., 1e3, ydim*gf, dtype=np.float32),\n",
        "                fieldtype='U')\n",
        "Vstokes = Field('Vstokes', -0.2*np.ones((ydim*gf, xdim*gf), dtype=np.float32), grid=Ustokes.grid, \n",
        "                fieldtype='V')"
      ]
    },
    {
      "cell_type": "markdown",
      "metadata": {},
      "source": [
        "Now comes the trick of the `FieldLists`. We can simply define a new `FieldSet` with a list of different `Fields`, as in `U=[U, Ustokes]`."
      ]
    },
    {
      "cell_type": "code",
      "execution_count": 5,
      "metadata": {},
      "outputs": [],
      "source": [
        "fieldset = FieldSet(U=[U, Ustokes], V=[V, Vstokes])"
      ]
    },
    {
      "cell_type": "markdown",
      "metadata": {},
      "source": [
        "And if we then run the particle again and plot its trajectory, we see that it moves slightly southward too (and less far eastward), because of the Stokes drift."
      ]
    },
    {
      "cell_type": "code",
      "execution_count": 6,
      "metadata": {},
      "outputs": [
        {
          "name": "stderr",
          "output_type": "stream",
          "text": [
            "INFO: Compiled JITParticleAdvectionRK4 ==> /var/folders/r2/8593q8z93kd7t4j9kbb_f7p00000gr/T/parcels-504/8ba0de8db83dec9865083d5c33acfdb2.so\n",
            "100% (10.0 of 10.0) |####################| Elapsed Time: 0:00:00 Time:  0:00:00\n"
          ]
        },
        {
          "data": {
            "image/png": "[encoded data removed]",
            "text/plain": [
              "<matplotlib.figure.Figure at 0x10b6e52d0>"
            ]
          },
          "metadata": {},
          "output_type": "display_data"
        }
      ],
      "source": [
        "pset = ParticleSet(fieldset, pclass=JITParticle, lon=[0], lat=[900])\n",
        "output_file = pset.ParticleFile(name='FieldListParticle_adv_stokes.nc', outputdt=1)\n",
        "pset.execute(AdvectionRK4, runtime=10, dt=1, output_file=output_file)\n",
        "plotTrajectoriesFile('FieldListParticle_adv_stokes.nc');"
      ]
    },
    {
      "cell_type": "markdown",
      "metadata": {},
      "source": [
        "What happens under the hood is that each `Field` in the `FieldList` is interpolated separately to the particle location, and that the different velocities are added in each step of the RK4 advection. So `FieldLists` are effortless to users\n",
        "\n",
        "Note that `FieldLists` work for any type of `Field`, not only for velocities. Any call to a `Field` interpolation (`fieldset.fld[time, lon, lat, depth]`) will return the sum of all `Fields` in the list if `fld` is a `FieldList`."
      ]
    },
    {
      "cell_type": "code",
      "execution_count": null,
      "metadata": {},
      "outputs": [],
      "source": []
    }
  ],
  "metadata": {
    "kernelspec": {
      "display_name": "Python 3",
      "language": "python",
      "name": "python3"
    }
  },
  "nbformat": 4,
  "nbformat_minor": 2
}